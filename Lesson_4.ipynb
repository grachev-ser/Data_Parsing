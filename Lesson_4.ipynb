{
 "cells": [
  {
   "cell_type": "markdown",
   "id": "9d390844",
   "metadata": {},
   "source": [
    "# Урок 4. Парсинг HTML. XPath"
   ]
  },
  {
   "cell_type": "markdown",
   "id": "74e9b99f",
   "metadata": {},
   "source": [
    "Написать приложение, которое собирает основные новости с сайта на выбор news.mail.ru, lenta.ru, yandex-новости. Для парсинга использовать XPath. Структура данных должна содержать:\n",
    "название источника;\n",
    "наименование новости;\n",
    "ссылку на новость;\n",
    "дата публикации."
   ]
  },
  {
   "cell_type": "code",
   "execution_count": 1,
   "id": "325cfbe1",
   "metadata": {},
   "outputs": [],
   "source": [
    "from lxml import html\n",
    "import requests"
   ]
  },
  {
   "cell_type": "code",
   "execution_count": 2,
   "id": "8dca2166",
   "metadata": {},
   "outputs": [],
   "source": [
    "from datetime import datetime"
   ]
  },
  {
   "cell_type": "code",
   "execution_count": 7,
   "id": "4455a99f",
   "metadata": {},
   "outputs": [],
   "source": [
    "def get_news_lenta_ru():\n",
    "    \n",
    "    news = []\n",
    "    \n",
    "    keys = ('title', 'date', 'link')\n",
    "    date_format = '%Y-%m-%dT%H:%M:%S%z'\n",
    "    link_lenta = 'https://lenta.ru/'\n",
    "    \n",
    "    request = requests.get(link_lenta)\n",
    "\n",
    "    root = html.fromstring(request.text)\n",
    "    root.make_links_absolute(link_lenta)\n",
    "    \n",
    "    news_links = root.xpath('''(//section[@class=\"row b-top7-for-main js-top-seven\"]//div[@class=\"first-item\"]/h2 | \n",
    "                                //section[@class=\"row b-top7-for-main js-top-seven\"]//div[@class=\"item\"])\n",
    "                                /a/@href''')\n",
    "    \n",
    "    news_text = root.xpath('''(//section[@class=\"row b-top7-for-main js-top-seven\"]//div[@class=\"first-item\"]/h2 | \n",
    "                                //section[@class=\"row b-top7-for-main js-top-seven\"]//div[@class=\"item\"])\n",
    "                                /a/text()''')\n",
    "    \n",
    "    for i in range(len(news_text)):\n",
    "        news_text[i] = news_text[i].replace(u'\\xa0', u' ')\n",
    "    \n",
    "    news_date = []\n",
    "    \n",
    "    for item in news_links:\n",
    "        request = requests.get(item)\n",
    "        root = html.fromstring(request.text)\n",
    "        date = root.xpath('//time[@itemprop=\"datePublished\"]/@datetime')\n",
    "        news_date.extend(date)\n",
    "\n",
    "    for i in range(len(news_date)):\n",
    "        news_date[i] = datetime.strptime(news_date[i], date_format)\n",
    "        \n",
    "    for item in list(zip(news_text, news_date, news_links)):\n",
    "        news_dict = {}\n",
    "        for key, value in zip(keys, item):\n",
    "            news_dict[key] = value\n",
    "        \n",
    "        news_dict['source'] = 'lenta.ru'\n",
    "        news.append(news_dict)\n",
    "    \n",
    "    return news"
   ]
  },
  {
   "cell_type": "code",
   "execution_count": 8,
   "id": "f1bf49dc",
   "metadata": {},
   "outputs": [
    {
     "data": {
      "text/plain": [
       "[]"
      ]
     },
     "execution_count": 8,
     "metadata": {},
     "output_type": "execute_result"
    }
   ],
   "source": [
    "get_news_lenta_ru()"
   ]
  },
  {
   "cell_type": "code",
   "execution_count": null,
   "id": "129638ac",
   "metadata": {},
   "outputs": [],
   "source": []
  }
 ],
 "metadata": {
  "kernelspec": {
   "display_name": "Python 3",
   "language": "python",
   "name": "python3"
  },
  "language_info": {
   "codemirror_mode": {
    "name": "ipython",
    "version": 3
   },
   "file_extension": ".py",
   "mimetype": "text/x-python",
   "name": "python",
   "nbconvert_exporter": "python",
   "pygments_lexer": "ipython3",
   "version": "3.8.8"
  }
 },
 "nbformat": 4,
 "nbformat_minor": 5
}
